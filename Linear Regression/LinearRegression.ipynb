{
 "cells": [
  {
   "cell_type": "code",
   "execution_count": 36,
   "metadata": {},
   "outputs": [],
   "source": [
    "import numpy as np\n",
    "from sklearn import preprocessing"
   ]
  },
  {
   "cell_type": "code",
   "execution_count": 37,
   "metadata": {},
   "outputs": [],
   "source": [
    "def gradient(m, learning_rate, x_train, y_train):\n",
    "    new_m = np.zeros(m.shape[0])\n",
    "    col = x_train.shape[1]\n",
    "    row = x_train.shape[0]\n",
    "    for i in range(col):\n",
    "        for j in range(row):\n",
    "            y = y_train[j]\n",
    "            x = x_train[j, i]\n",
    "            new_m[i] += (-2/row)*(y-m[i]*x-m[11])*x\n",
    "            new_m[11] += (-2/row)*(y-m[i]*x-m[11])\n",
    "        m[i] = m[i]-new_m[i]*learning_rate\n",
    "        m[11] = m[11]-new_m[11]*learning_rate\n",
    "    return m"
   ]
  },
  {
   "cell_type": "code",
   "execution_count": 38,
   "metadata": {},
   "outputs": [],
   "source": [
    "def gd_helper(x_train, y_train, m):\n",
    "    learning_rate = 0.0001\n",
    "    num_iterations = 100\n",
    "    for i in range(num_iterations):\n",
    "        m = gradient(m, learning_rate, x_train, y_train)\n",
    "    return m"
   ]
  },
  {
   "cell_type": "code",
   "execution_count": 39,
   "metadata": {},
   "outputs": [],
   "source": [
    "def predict(m, data_test):\n",
    "    y_predict = [0 for i in range(152)]\n",
    "    y_predict = np.array(y_predict)\n",
    "    for i in range(152):\n",
    "        c = m[11]\n",
    "        y = 0\n",
    "        for j in range(11):\n",
    "            y = y+m[j]*data_test[i, j]\n",
    "        y = y+c\n",
    "        y_predict[i] = y\n",
    "    return y_predict"
   ]
  },
  {
   "cell_type": "code",
   "execution_count": 40,
   "metadata": {},
   "outputs": [
    {
     "name": "stdout",
     "output_type": "stream",
     "text": [
      "(354, 12)\n",
      "(152, 12)\n",
      "[18 18 17 17 17 17 17 17 17 17 18 17 17 16 17 17 17 17 17 17 16 17 17 17\n",
      " 16 17 13 17 17 17 16 16 16 16 16 17 17 17 17 17 17 17 17 17 15 17 16 17\n",
      " 17 16 15 14 16 17 17 17 15 17 16 16 15 17 17 16 14 17 17 17 17 17 17 17\n",
      " 17 16 17 17 17 17 17 17 17 17 17 17 17 17 16 17 17 17 17 17 17 17 17 17\n",
      " 17 17 17 17 17 17 17 17 17 17 17 17 17 17 17 17 17 17 17 17 17 17 17 17\n",
      " 17 17 17 16 17 17 17 17 17 17 17 17 17 17 17 17 17 17 17 18 18 18 17 18\n",
      " 18 18 18 18 18 18 18 18]\n",
      "Mean squared error: 63.15105263157894\n",
      "R2 score: 0.04815974966811809\n",
      "SSE: 9598.96\n"
     ]
    }
   ],
   "source": [
    "data = np.genfromtxt(\n",
    "    \"train.csv\", delimiter=\",\")\n",
    "data_test = np.genfromtxt(\n",
    "    \"test.csv\", delimiter=\",\")\n",
    "print(data.shape)\n",
    "print(data_test.shape)\n",
    "x_train = data[:, 0:11]\n",
    "# print(x_train.shape)\n",
    "y_train = data[:, 11]\n",
    "# print(y_train.shape)\n",
    "data_tlast = data_test[:, 11]\n",
    "# print(data_tlast.shape)\n",
    "data_test = data_test[:, 0:11]\n",
    "# print(data_test.shape)\n",
    "\n",
    "# Doing a little data preprocessing to make the data more accurate\n",
    "scaler = preprocessing.StandardScaler()\n",
    "scaler.fit(x_train)\n",
    "x_train = scaler.transform(x_train)\n",
    "data_test = scaler.transform(data_test)\n",
    "t = x_train.shape[1]+1\n",
    "m = np.zeros(t)\n",
    "m = gd_helper(x_train, y_train, m)\n",
    "y_predict = predict(m, data_test)\n",
    "y_predict = np.array(y_predict)\n",
    "print(y_predict)\n",
    "\n",
    "\n",
    "# Calculate the mean squared error\n",
    "mse = np.mean((y_predict-data_tlast)**2)\n",
    "print(\"Mean squared error:\", mse)\n",
    "\n",
    "# Calculate r2 score\n",
    "r2 = 1 - (np.sum((y_predict-data_tlast)**2) /\n",
    "          np.sum((data_tlast-np.mean(data_tlast))**2))\n",
    "print(\"R2 score:\", r2)\n",
    "\n",
    "# Calculate SSE\n",
    "sse = np.sum((y_predict-data_tlast)**2)\n",
    "print(\"SSE:\", sse)\n"
   ]
  }
 ],
 "metadata": {
  "kernelspec": {
   "display_name": "Python 3.10.4 64-bit",
   "language": "python",
   "name": "python3"
  },
  "language_info": {
   "codemirror_mode": {
    "name": "ipython",
    "version": 3
   },
   "file_extension": ".py",
   "mimetype": "text/x-python",
   "name": "python",
   "nbconvert_exporter": "python",
   "pygments_lexer": "ipython3",
   "version": "3.10.4"
  },
  "orig_nbformat": 4,
  "vscode": {
   "interpreter": {
    "hash": "38d8b76dd9bb16b2003496ba2054ca0b13db4a2840f2780af0801b842aa80e98"
   }
  }
 },
 "nbformat": 4,
 "nbformat_minor": 2
}
